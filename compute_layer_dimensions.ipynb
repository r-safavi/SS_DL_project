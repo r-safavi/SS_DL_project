{
 "cells": [
  {
   "cell_type": "code",
   "execution_count": 31,
   "metadata": {},
   "outputs": [],
   "source": [
    "import numpy as np"
   ]
  },
  {
   "cell_type": "code",
   "execution_count": 56,
   "metadata": {},
   "outputs": [],
   "source": [
    "input_dimension = (3,210,160)\n",
    "num_filters_list = [64,32,32,32]\n",
    "filter_size_list = [(8,8),(6,6),(6,6),(4,4)]\n",
    "stride_list=[2 for _ in range(4)]\n",
    "padding_list=[(0,1),(1,1),(1,1),(0,0)]\n",
    "\n",
    "# input_dimension = (1,64,80)\n",
    "# num_filters_list = [64,32,32,32]\n",
    "# filter_size_list = [(8,8),(6,6),(6,6),(4,4)]\n",
    "# stride_list=[2 for _ in range(4)]\n",
    "# padding_list=[(1,1),(1,1),(1,1),(0,0)]"
   ]
  },
  {
   "cell_type": "code",
   "execution_count": 57,
   "metadata": {},
   "outputs": [
    {
     "name": "stdout",
     "output_type": "stream",
     "text": [
      "The input dimension is: (3, 210, 160)\n",
      "Layer 1's output dimensions = (64, 102, 78)\n",
      "Layer 2's output dimensions = (32, 50, 38)\n",
      "Layer 3's output dimensions = (32, 24, 18)\n",
      "Layer 4's output dimensions = (32, 11, 8)\n"
     ]
    }
   ],
   "source": [
    "print(f\"The input dimension is:\", input_dimension)\n",
    "current_layer_dimensions = input_dimension\n",
    "for i_layer in range(len(num_filters_list)):\n",
    "    new_depth = num_filters_list[i_layer]\n",
    "    if int((current_layer_dimensions[1]-filter_size_list[i_layer][0]+2*(padding_list[i_layer][0]))/(stride_list[i_layer])) != \\\n",
    "        ((current_layer_dimensions[1]-filter_size_list[i_layer][0]+2*(padding_list[i_layer][0]))/(stride_list[i_layer])):\n",
    "        print('dim1 gets cut out here')\n",
    "    if int((current_layer_dimensions[2]-filter_size_list[i_layer][1]+2*(padding_list[i_layer][1]))/(stride_list[i_layer]))!=\\\n",
    "        ((current_layer_dimensions[2]-filter_size_list[i_layer][1]+2*(padding_list[i_layer][1]))/(stride_list[i_layer])):\n",
    "        print('dim2 gets cut out here')\n",
    "    new_width = 1+int((current_layer_dimensions[1]-filter_size_list[i_layer][0]+2*(padding_list[i_layer][0]))/(stride_list[i_layer]))\n",
    "    new_height = 1+int((current_layer_dimensions[2]-filter_size_list[i_layer][1]+2*(padding_list[i_layer][1]))/(stride_list[i_layer]))\n",
    "    current_layer_dimensions = (new_depth,new_width,new_height)\n",
    "    print(f\"Layer {i_layer+1}'s output dimensions =\", current_layer_dimensions)"
   ]
  },
  {
   "cell_type": "code",
   "execution_count": 54,
   "metadata": {},
   "outputs": [],
   "source": [
    "# input_shape = [32,11,8]\n",
    "# num_filters_list = [32,32,64,3]\n",
    "# filter_size_list = [(4,4),(6,6),(6,6),(8,8)]\n",
    "# stride_list=[2 for _ in range(4)]\n",
    "# padding_list=[(0,0),(1,1),(1,1),(0,1)]\n",
    "\n",
    "input_shape = (32,2,3)\n",
    "num_filters_list = [32,32,64,1]\n",
    "filter_size_list = [(4,4),(6,6),(6,6),(8,8)]\n",
    "stride_list=[2 for _ in range(4)]\n",
    "padding_list=[(0,0),(1,1),(1,1),(1,1)]\n"
   ]
  },
  {
   "cell_type": "code",
   "execution_count": 55,
   "metadata": {},
   "outputs": [
    {
     "name": "stdout",
     "output_type": "stream",
     "text": [
      "The input dimension is: (32, 2, 3)\n",
      "Layer 1's output dimensions = (32, 6, 8)\n",
      "Layer 2's output dimensions = (32, 14, 18)\n",
      "Layer 3's output dimensions = (64, 30, 38)\n",
      "Layer 4's output dimensions = (1, 64, 80)\n"
     ]
    }
   ],
   "source": [
    "print(f\"The input dimension is:\", input_shape)\n",
    "current_layer_dimensions = input_shape\n",
    "\n",
    "for i_layer in range(len(num_filters_list)):\n",
    "    new_depth = num_filters_list[i_layer]\n",
    "    new_width = ((current_layer_dimensions[1]-1)*(stride_list[i_layer]))-2*(padding_list[i_layer][0]) + filter_size_list[i_layer][0]\n",
    "    new_height = ((current_layer_dimensions[2]-1)*(stride_list[i_layer]))-2*(padding_list[i_layer][1]) + filter_size_list[i_layer][1]\n",
    "    current_layer_dimensions = (new_depth,new_width,new_height)\n",
    "    print(f\"Layer {i_layer+1}'s output dimensions =\", current_layer_dimensions)"
   ]
  }
 ],
 "metadata": {
  "kernelspec": {
   "display_name": "venv",
   "language": "python",
   "name": "python3"
  },
  "language_info": {
   "codemirror_mode": {
    "name": "ipython",
    "version": 3
   },
   "file_extension": ".py",
   "mimetype": "text/x-python",
   "name": "python",
   "nbconvert_exporter": "python",
   "pygments_lexer": "ipython3",
   "version": "3.9.12"
  },
  "orig_nbformat": 4
 },
 "nbformat": 4,
 "nbformat_minor": 2
}
